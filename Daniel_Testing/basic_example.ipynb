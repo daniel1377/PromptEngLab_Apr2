{
 "cells": [
  {
   "cell_type": "code",
   "execution_count": 1,
   "id": "b8eec50b",
   "metadata": {},
   "outputs": [],
   "source": [
    "import time\n",
    "import kscope"
   ]
  },
  {
   "cell_type": "markdown",
   "id": "bf403986",
   "metadata": {},
   "source": [
    "Instantiate a client to interact with the hosted language models."
   ]
  },
  {
   "cell_type": "code",
   "execution_count": 2,
   "id": "35389d9f",
   "metadata": {},
   "outputs": [
    {
     "data": {
      "text/plain": [
       "[{'id': 'a33c0f4d-da2b-4861-8c3d-91e66955e879',\n",
       "  'name': 'falcon-7b',\n",
       "  'state': 'ACTIVE'},\n",
       " {'id': '7389b196-9637-4a42-adca-7bfb4f59733d',\n",
       "  'name': 'llama2-7b',\n",
       "  'state': 'ACTIVE'},\n",
       " {'id': 'b486d208-a570-47ed-bb35-9de310f9cd02',\n",
       "  'name': 'llama2-70b',\n",
       "  'state': 'ACTIVE'},\n",
       " {'id': 'b3871a00-4848-49be-a1c8-c8f6c47ad8b2',\n",
       "  'name': 'falcon-40b',\n",
       "  'state': 'ACTIVE'},\n",
       " {'id': '99bee87e-abc4-44fd-b4d3-ea2c527bb93e',\n",
       "  'name': 'llama2-13b',\n",
       "  'state': 'ACTIVE'}]"
      ]
     },
     "execution_count": 2,
     "metadata": {},
     "output_type": "execute_result"
    }
   ],
   "source": [
    "# Establish a client connection to the kscope service\n",
    "client = kscope.Client(gateway_host=\"llm.cluster.local\", gateway_port=3001)\n",
    "client.model_instances"
   ]
  },
  {
   "cell_type": "markdown",
   "id": "a9ff24a4",
   "metadata": {},
   "source": [
    "Load a model to query."
   ]
  },
  {
   "cell_type": "code",
   "execution_count": 3,
   "id": "6ec37fa5",
   "metadata": {},
   "outputs": [],
   "source": [
    "model = client.load_model(\"llama2-70b\")\n",
    "# If this model is not actively running, it will get launched in the background.\n",
    "# In this case, wait until it moves into an \"ACTIVE\" state before proceeding.\n",
    "while model.state != \"ACTIVE\":\n",
    "    time.sleep(1)"
   ]
  },
  {
   "cell_type": "markdown",
   "id": "a7b99c0d",
   "metadata": {},
   "source": [
    "Define a generation configuration that defines how the model with produce a response (i.e. sampling)."
   ]
  },
  {
   "cell_type": "code",
   "execution_count": 4,
   "id": "8be95ac5",
   "metadata": {},
   "outputs": [],
   "source": [
    "small_generation_config = {\"max_tokens\": 20, \"top_k\": 10, \"temperature\": 0.8}"
   ]
  },
  {
   "cell_type": "markdown",
   "id": "1b12168b",
   "metadata": {},
   "source": [
    "Ask the model a basic question and show the response."
   ]
  },
  {
   "cell_type": "code",
   "execution_count": 7,
   "id": "31a1c9c8",
   "metadata": {},
   "outputs": [
    {
     "name": "stdout",
     "output_type": "stream",
     "text": [
      "\n",
      "The capital of Canada is Ottawa. It is located in the east of southern Ontario. Ott\n"
     ]
    }
   ],
   "source": [
    "generation = model.generate(\"What is the capital of Canada?\", small_generation_config)\n",
    "# Extract the text from the returned generation\n",
    "print(generation.generation[\"sequences\"][0])"
   ]
  }
 ],
 "metadata": {
  "kernelspec": {
   "display_name": "Python 3 (ipykernel)",
   "language": "python",
   "name": "python3"
  },
  "language_info": {
   "codemirror_mode": {
    "name": "ipython",
    "version": 3
   },
   "file_extension": ".py",
   "mimetype": "text/x-python",
   "name": "python",
   "nbconvert_exporter": "python",
   "pygments_lexer": "ipython3",
   "version": "3.9.10"
  }
 },
 "nbformat": 4,
 "nbformat_minor": 5
}
