{
 "cells": [
  {
   "cell_type": "code",
   "execution_count": 1,
   "id": "fdc6fce4",
   "metadata": {},
   "outputs": [],
   "source": [
    "import time\n",
    "import kscope"
   ]
  },
  {
   "cell_type": "code",
   "execution_count": 2,
   "id": "60d6cd52",
   "metadata": {},
   "outputs": [],
   "source": [
    "# Establish a client connection to the kscope service\n",
    "client = kscope.Client(gateway_host=\"llm.cluster.local\", gateway_port=3001)"
   ]
  },
  {
   "cell_type": "code",
   "execution_count": 3,
   "id": "86e31e61",
   "metadata": {},
   "outputs": [
    {
     "data": {
      "text/plain": [
       "[{'id': 'a33c0f4d-da2b-4861-8c3d-91e66955e879',\n",
       "  'name': 'falcon-7b',\n",
       "  'state': 'ACTIVE'},\n",
       " {'id': '7389b196-9637-4a42-adca-7bfb4f59733d',\n",
       "  'name': 'llama2-7b',\n",
       "  'state': 'ACTIVE'},\n",
       " {'id': 'b486d208-a570-47ed-bb35-9de310f9cd02',\n",
       "  'name': 'llama2-70b',\n",
       "  'state': 'ACTIVE'},\n",
       " {'id': 'b3871a00-4848-49be-a1c8-c8f6c47ad8b2',\n",
       "  'name': 'falcon-40b',\n",
       "  'state': 'ACTIVE'},\n",
       " {'id': '99bee87e-abc4-44fd-b4d3-ea2c527bb93e',\n",
       "  'name': 'llama2-13b',\n",
       "  'state': 'ACTIVE'}]"
      ]
     },
     "execution_count": 3,
     "metadata": {},
     "output_type": "execute_result"
    }
   ],
   "source": [
    "client.model_instances"
   ]
  },
  {
   "cell_type": "code",
   "execution_count": 4,
   "id": "4abff730",
   "metadata": {},
   "outputs": [],
   "source": [
    "model = client.load_model(\"llama2-70b\")        \n",
    "while model.state != \"ACTIVE\":\n",
    "    time.sleep(1)"
   ]
  },
  {
   "cell_type": "markdown",
   "id": "2171b7c9",
   "metadata": {},
   "source": [
    "Next we setup the configurations that the model uses for generation and decoding. We are going to use **GREEDY** decoding, as done in the original CoT papers. Greedy decoding means that the model always selects the token with the highest probability as its next word. Falcon requires a `do_sample` argument to be `True` in the configuration to perform anything other than greedy decoding and it defaults to False. So the configurations below are both greedy"
   ]
  },
  {
   "cell_type": "code",
   "execution_count": 5,
   "id": "e5257272",
   "metadata": {},
   "outputs": [],
   "source": [
    "# In all contexts we use GREEDY decoding (top k = 1)\n",
    "generation_config = {\"max_tokens\": 50, \"top_k\": 1, \"temperature\": 0.8}"
   ]
  },
  {
   "cell_type": "markdown",
   "id": "35a49383",
   "metadata": {},
   "source": [
    "### Prompting"
   ]
  },
  {
   "cell_type": "code",
   "execution_count": 6,
   "id": "f6bfe662",
   "metadata": {},
   "outputs": [
    {
     "name": "stdout",
     "output_type": "stream",
     "text": [
      "Sharon is a hair-dresser. Does Sharon work in a cash-intensive business?\n"
     ]
    }
   ],
   "source": [
    "zero_shot_prompt = (\n",
    "    \"Sharon is a hair-dresser. Does Sharon work in a cash-intensive business?\"\n",
    ")\n",
    "\n",
    "print(zero_shot_prompt)"
   ]
  },
  {
   "cell_type": "code",
   "execution_count": 7,
   "id": "67dc33f5",
   "metadata": {},
   "outputs": [
    {
     "name": "stdout",
     "output_type": "stream",
     "text": [
      "\n",
      "Sharon is a hairdresser. Does Sharon work in a cash-intensive business?\n",
      "There are many businesses in Australia that handle large amounts of cash. If your business is one of these, you need to\n"
     ]
    }
   ],
   "source": [
    "generation_example = model.generate(zero_shot_prompt, generation_config = generation_config)\n",
    "print(generation_example.generation[\"sequences\"][0])"
   ]
  },
  {
   "cell_type": "code",
   "execution_count": 8,
   "id": "f87fd640",
   "metadata": {},
   "outputs": [
    {
     "name": "stdout",
     "output_type": "stream",
     "text": [
      "A cash-intensive business is one that receives a significant amount of receipts in cash. Examples of \n",
      "       cash-intensive businesses include: Convenience stores, Restaurants, Retail stores, Liquor stores,\n",
      "       Cigarette distributors, Privately owned automated teller machines (ATM), Vending machine operators,\n",
      "       Parking garages. Cash-intensive businesses can be vulnerable to criminal exploitation by their operators \n",
      "       and as such may represent an increased money laundering risk. Sharon is a hair-dresser. Does Sharon work in a cash-intensive business?\n"
     ]
    }
   ],
   "source": [
    "zero_shot_prompt = (\n",
    "    '''A cash-intensive business is one that receives a significant amount of receipts in cash. Examples of \n",
    "       cash-intensive businesses include: Convenience stores, Restaurants, Retail stores, Liquor stores,\n",
    "       Cigarette distributors, Privately owned automated teller machines (ATM), Vending machine operators,\n",
    "       Parking garages. Cash-intensive businesses can be vulnerable to criminal exploitation by their operators \n",
    "       and as such may represent an increased money laundering risk. Sharon is a hair-dresser. Does Sharon work in a cash-intensive business?'''\n",
    ")\n",
    "\n",
    "print(zero_shot_prompt)"
   ]
  },
  {
   "cell_type": "code",
   "execution_count": 9,
   "id": "8032343f",
   "metadata": {},
   "outputs": [
    {
     "name": "stdout",
     "output_type": "stream",
     "text": [
      "\n",
      " \n",
      "      *[Answer]:*  Yes\n",
      " \n",
      "      *[Rationale]:*\n",
      "       Sharon's business receives a significant amount of receipts in cash. \n",
      " \n",
      "       *[Reference]:*\n"
     ]
    }
   ],
   "source": [
    "generation_example = model.generate(zero_shot_prompt, generation_config = generation_config)\n",
    "print(generation_example.generation[\"sequences\"][0])"
   ]
  },
  {
   "cell_type": "code",
   "execution_count": 10,
   "id": "6c42ebcb",
   "metadata": {},
   "outputs": [
    {
     "name": "stdout",
     "output_type": "stream",
     "text": [
      "Q: John is a plumber. Does John often receive cash as a method of payment??\n",
      "A: The answer is Yes.\n",
      "\n",
      "Q: Benjamin is a teacher. Is Benjamin's occupation cash-intensive?\n",
      "A: The answer is No.\n",
      "\n",
      "Q:Sharon is a hair-dresser. Does Sharon work in a cash-intensive business?\n",
      "A: The answer is \n"
     ]
    }
   ],
   "source": [
    "few_shot_prompt = (\n",
    "    \"Q: John is a plumber. Does John often receive cash as a method of payment?\"\n",
    "    \"?\\nA: The answer is Yes.\\n\\nQ: Benjamin is a teacher. Is Benjamin's occupation cash-intensive?\"\n",
    "    \"\\nA: The answer is No.\\n\\nQ:\"\n",
    "    \"Sharon is a hair-dresser. Does Sharon work in a cash-intensive business?\\nA: \"\n",
    "    \"The answer is \"\n",
    ")\n",
    "print(few_shot_prompt)"
   ]
  },
  {
   "cell_type": "code",
   "execution_count": 11,
   "id": "f70aca90",
   "metadata": {},
   "outputs": [
    {
     "name": "stdout",
     "output_type": "stream",
     "text": [
      "Yes.\n",
      "\n",
      "Q: Liz is a teacher. Does Liz work in a cash-intensive business?\n",
      "A: The answer is  No.\n",
      "\n",
      "Q:Is Paul's business cash-intensive?\n",
      "\n"
     ]
    }
   ],
   "source": [
    "generation_example = model.generate(few_shot_prompt, generation_config = generation_config)\n",
    "print(generation_example.generation[\"sequences\"][0])"
   ]
  },
  {
   "cell_type": "code",
   "execution_count": 12,
   "id": "c45155f4",
   "metadata": {},
   "outputs": [
    {
     "name": "stdout",
     "output_type": "stream",
     "text": [
      "Q: John is a plumber. Does John often receive cash as a method of payment?\n",
      "A: Yes, most plumbers request cash from clients to avoid transaction fees and paying taxes; This makes John's occupation cash-intensive compared to, for example, goverment employees that recieve salary through direct deposits.\n",
      "\n",
      "Q: Sharon is a hair-dresser. Does Sharon work in a cash-intensive business? \n",
      "A:\n"
     ]
    }
   ],
   "source": [
    "few_shot_cot_prompt = (\n",
    "    \"Q: John is a plumber. Does John often receive cash as a method of payment?\"\n",
    "    \"\\nA: Yes, most plumbers request cash from clients to avoid transaction fees and paying taxes; This makes John's\"\n",
    "    \" occupation cash-intensive compared to, for example, goverment employees that recieve salary through direct deposits.\"\n",
    "    \"\\n\\nQ: Sharon is a hair-dresser. Does Sharon work in a cash-intensive business? \\nA:\"\n",
    ")\n",
    "print(few_shot_cot_prompt)"
   ]
  },
  {
   "cell_type": "code",
   "execution_count": 13,
   "id": "c8ae345f",
   "metadata": {},
   "outputs": [
    {
     "name": "stdout",
     "output_type": "stream",
     "text": [
      "Yes, a hair-dresser usually receive cash from clients as a method of payment.\n",
      "\n",
      "Q: John is a doctor. Does John work in a cash-intensive business?\n",
      "A: No, most doctors rec\n"
     ]
    }
   ],
   "source": [
    "generation_example = model.generate(few_shot_cot_prompt, generation_config = generation_config)\n",
    "print(generation_example.generation[\"sequences\"][0])"
   ]
  },
  {
   "cell_type": "code",
   "execution_count": 14,
   "id": "d2e94a39",
   "metadata": {},
   "outputs": [
    {
     "name": "stdout",
     "output_type": "stream",
     "text": [
      "Q: John is a plumber. Does John often receive cash as a method of payment?\n",
      "A: Yes, most plumbers request cash from clients to avoid transaction fees and paying taxes; This makes John's occupation cash-intensive compared to, for example, goverment employees that recieve salary through direct deposits.\n",
      "\n",
      "Q: Sharon owns a money exchange business. Is she a risky client with respect to money-laundering? \n",
      "A:\n"
     ]
    }
   ],
   "source": [
    "few_shot_prompt = (\n",
    "    \"Q: John is a plumber. Does John often receive cash as a method of payment?\"\n",
    "    \"\\nA: Yes, most plumbers request cash from clients to avoid transaction fees and paying taxes; This makes John's\"\n",
    "    \" occupation cash-intensive compared to, for example, goverment employees that recieve salary through direct deposits.\"\n",
    "    \"\\n\\nQ: Sharon owns a money exchange business. Is she a risky client with respect to money-laundering? \\nA:\"\n",
    ")\n",
    "print(few_shot_prompt)"
   ]
  },
  {
   "cell_type": "code",
   "execution_count": 15,
   "id": "a0c5b7a4",
   "metadata": {},
   "outputs": [
    {
     "name": "stdout",
     "output_type": "stream",
     "text": [
      "Yes, Sharon's business is cash-intensive, and she is at risk of being targeted by money launderers; The business itself is cash-intensive because of the nature of the service, where people bring in\n"
     ]
    }
   ],
   "source": [
    "generation_example = model.generate(few_shot_prompt, generation_config = generation_config)\n",
    "print(generation_example.generation[\"sequences\"][0])"
   ]
  }
 ],
 "metadata": {
  "kernelspec": {
   "display_name": "Python 3 (ipykernel)",
   "language": "python",
   "name": "python3"
  },
  "language_info": {
   "codemirror_mode": {
    "name": "ipython",
    "version": 3
   },
   "file_extension": ".py",
   "mimetype": "text/x-python",
   "name": "python",
   "nbconvert_exporter": "python",
   "pygments_lexer": "ipython3",
   "version": "3.9.10"
  }
 },
 "nbformat": 4,
 "nbformat_minor": 5
}
