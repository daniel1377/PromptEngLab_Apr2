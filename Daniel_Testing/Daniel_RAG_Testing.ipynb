{
 "cells": [
  {
   "cell_type": "code",
   "execution_count": 1,
   "metadata": {},
   "outputs": [],
   "source": [
    "import json\n",
    "import time\n",
    "import kscope"
   ]
  },
  {
   "cell_type": "markdown",
   "metadata": {},
   "source": [
    "# Getting Started\n",
    "\n",
    "There is a bit of documentation on how to interact with the large models [here](https://kaleidoscope-sdk.readthedocs.io/en/latest/). The relevant github links to the SDK are [here](https://github.com/VectorInstitute/kaleidoscope-sdk) and underlying code [here](https://github.com/VectorInstitute/kaleidoscope)."
   ]
  },
  {
   "cell_type": "markdown",
   "metadata": {},
   "source": [
    "First we connect to the service through which we'll interact with the LLMs and see which models are available to us"
   ]
  },
  {
   "cell_type": "code",
   "execution_count": 2,
   "metadata": {},
   "outputs": [],
   "source": [
    "# Establish a client connection to the kscope service\n",
    "client = kscope.Client(gateway_host=\"llm.cluster.local\", gateway_port=3001)"
   ]
  },
  {
   "cell_type": "markdown",
   "metadata": {},
   "source": [
    "Show all supported models"
   ]
  },
  {
   "cell_type": "code",
   "execution_count": 3,
   "metadata": {},
   "outputs": [
    {
     "data": {
      "text/plain": [
       "['gpt2',\n",
       " 'llama2-7b',\n",
       " 'llama2-7b_chat',\n",
       " 'llama2-13b',\n",
       " 'llama2-13b_chat',\n",
       " 'llama2-70b',\n",
       " 'llama2-70b_chat',\n",
       " 'falcon-7b',\n",
       " 'falcon-40b',\n",
       " 'sdxl-turbo']"
      ]
     },
     "execution_count": 3,
     "metadata": {},
     "output_type": "execute_result"
    }
   ],
   "source": [
    "client.models"
   ]
  },
  {
   "cell_type": "markdown",
   "metadata": {},
   "source": [
    "Show all model instances that are currently active"
   ]
  },
  {
   "cell_type": "code",
   "execution_count": 4,
   "metadata": {},
   "outputs": [
    {
     "data": {
      "text/plain": [
       "[{'id': 'a33c0f4d-da2b-4861-8c3d-91e66955e879',\n",
       "  'name': 'falcon-7b',\n",
       "  'state': 'ACTIVE'},\n",
       " {'id': '7389b196-9637-4a42-adca-7bfb4f59733d',\n",
       "  'name': 'llama2-7b',\n",
       "  'state': 'ACTIVE'},\n",
       " {'id': 'b486d208-a570-47ed-bb35-9de310f9cd02',\n",
       "  'name': 'llama2-70b',\n",
       "  'state': 'ACTIVE'},\n",
       " {'id': 'b3871a00-4848-49be-a1c8-c8f6c47ad8b2',\n",
       "  'name': 'falcon-40b',\n",
       "  'state': 'ACTIVE'},\n",
       " {'id': '99bee87e-abc4-44fd-b4d3-ea2c527bb93e',\n",
       "  'name': 'llama2-13b',\n",
       "  'state': 'ACTIVE'}]"
      ]
     },
     "execution_count": 4,
     "metadata": {},
     "output_type": "execute_result"
    }
   ],
   "source": [
    "client.model_instances"
   ]
  },
  {
   "cell_type": "markdown",
   "metadata": {},
   "source": [
    "To start, we obtain a handle to a model. In this example, let's use the Falcon 7B parameter model."
   ]
  },
  {
   "cell_type": "code",
   "execution_count": 5,
   "metadata": {},
   "outputs": [],
   "source": [
    "model = client.load_model(\"llama2-7b\")\n",
    "while model.state != \"ACTIVE\":\n",
    "    time.sleep(1)"
   ]
  },
  {
   "cell_type": "markdown",
   "metadata": {},
   "source": [
    "We need to configure the model to generate in the way we want it to. So we set a number of important parameters. For a discussion of the configuration parameters see: `src/reference_implementations/prompting_vector_llms/CONFIG_README.md`\n",
    "\n",
    "**NOTE**: We'll be doing deterministic sampling for most of this notebook (\"do_sample\" is False by default). However, you can turn sampling on, as we did in the `short_generation_config` by setting `\"do_sample\": True` in the `long_generation_config` that is used throughout this notebook."
   ]
  },
  {
   "cell_type": "code",
   "execution_count": 6,
   "metadata": {},
   "outputs": [],
   "source": [
    "short_generation_config = {\"max_tokens\": 20, \"top_p\": 1.0, \"temperature\": 0.7, \"do_sample\": True}\n",
    "long_generation_config = {\"max_tokens\": 50, \"top_p\": 1.0}"
   ]
  },
  {
   "cell_type": "code",
   "execution_count": 7,
   "metadata": {},
   "outputs": [],
   "source": [
    "def create_rag_prompt(question: str, reference: str) -> str:\n",
    "    non_reference = f\"Question: {question}\\n\\nAnswer:\"\n",
    "    if len(reference) > 0:\n",
    "        return f\"Reference: {reference}\\n\\n{non_reference}\"\n",
    "    return non_reference"
   ]
  },
  {
   "cell_type": "markdown",
   "metadata": {},
   "source": [
    "### Daniel RAG"
   ]
  },
  {
   "cell_type": "code",
   "execution_count": 8,
   "metadata": {},
   "outputs": [],
   "source": [
    "reference = '''\n",
    "Investigation case number: A5678910. The customer, a grocery store and its owner, are suspected of intentionally \n",
    "structuring cash deposits to circumvent federal reporting requirements. The customer is also engaged in activity \n",
    "indicative of an informal value transfer operation: deposits of bulk cash, third party out of state personal \n",
    "checks and money orders, and engaging in aggregate wire transfers to Dubai, UAE. John Doe opened a personal checking account, #12345-6789, in March of 1994. Doe indicated that he was born in \n",
    "Yemen, presented a Virginia driver's license as identification, and claimed he was the self-employed owner of a \n",
    "grocery store identified as Acme, Inc. A business checking account, #23456-7891, was opened in January of 1998 \n",
    "for Acme, Inc. Between January 17, 2003, and March 21, 2003, John Doe was the originator of nine wires totaling \n",
    "$225,000. The wire transfers were always conducted at the end of each week in the amount of $25,000. \n",
    "All of the wires were remitted to the Bank of Anan in Dubai, UAE, to benefit Kulkutta Building Supply Company, \n",
    "account #3489728.\n",
    "'''"
   ]
  },
  {
   "cell_type": "code",
   "execution_count": 9,
   "metadata": {},
   "outputs": [],
   "source": [
    "QUESTION_1 = 'Where does the client send international wires?'"
   ]
  },
  {
   "cell_type": "code",
   "execution_count": 10,
   "metadata": {},
   "outputs": [
    {
     "name": "stdout",
     "output_type": "stream",
     "text": [
      "Reference: \n",
      "Investigation case number: A5678910. The customer, a grocery store and its owner, are suspected of intentionally \n",
      "structuring cash deposits to circumvent federal reporting requirements. The customer is also engaged in activity \n",
      "indicative of an informal value transfer operation: deposits of bulk cash, third party out of state personal \n",
      "checks and money orders, and engaging in aggregate wire transfers to Dubai, UAE. John Doe opened a personal checking account, #12345-6789, in March of 1994. Doe indicated that he was born in \n",
      "Yemen, presented a Virginia driver's license as identification, and claimed he was the self-employed owner of a \n",
      "grocery store identified as Acme, Inc. A business checking account, #23456-7891, was opened in January of 1998 \n",
      "for Acme, Inc. Between January 17, 2003, and March 21, 2003, John Doe was the originator of nine wires totaling \n",
      "$225,000. The wire transfers were always conducted at the end of each week in the amount of $25,000. \n",
      "All of the wires were remitted to the Bank of Anan in Dubai, UAE, to benefit Kulkutta Building Supply Company, \n",
      "account #3489728.\n",
      "\n",
      "\n",
      "Question: Where does the client send international wires?\n",
      "\n",
      "Answer:\n",
      "The client sends its international wires to a bank in Dubai, UAE.\n",
      "\n",
      "\n",
      "Reference: \n",
      "Investigation case number: A5678910. The customer, a grocery store and its owner\n"
     ]
    }
   ],
   "source": [
    "rag_prompt = create_rag_prompt(reference=reference, question=QUESTION_1)\n",
    "print(rag_prompt)\n",
    "generation = model.generate(rag_prompt, long_generation_config)\n",
    "# Extract the text from the returned generation\n",
    "print(generation.generation[\"sequences\"][0])"
   ]
  },
  {
   "cell_type": "code",
   "execution_count": 11,
   "metadata": {},
   "outputs": [],
   "source": [
    "QUESTION_2 = 'What is the investigation case number?'"
   ]
  },
  {
   "cell_type": "code",
   "execution_count": 12,
   "metadata": {},
   "outputs": [
    {
     "name": "stdout",
     "output_type": "stream",
     "text": [
      "Reference: \n",
      "Investigation case number: A5678910. The customer, a grocery store and its owner, are suspected of intentionally \n",
      "structuring cash deposits to circumvent federal reporting requirements. The customer is also engaged in activity \n",
      "indicative of an informal value transfer operation: deposits of bulk cash, third party out of state personal \n",
      "checks and money orders, and engaging in aggregate wire transfers to Dubai, UAE. John Doe opened a personal checking account, #12345-6789, in March of 1994. Doe indicated that he was born in \n",
      "Yemen, presented a Virginia driver's license as identification, and claimed he was the self-employed owner of a \n",
      "grocery store identified as Acme, Inc. A business checking account, #23456-7891, was opened in January of 1998 \n",
      "for Acme, Inc. Between January 17, 2003, and March 21, 2003, John Doe was the originator of nine wires totaling \n",
      "$225,000. The wire transfers were always conducted at the end of each week in the amount of $25,000. \n",
      "All of the wires were remitted to the Bank of Anan in Dubai, UAE, to benefit Kulkutta Building Supply Company, \n",
      "account #3489728.\n",
      "\n",
      "\n",
      "Question: What is the investigation case number?\n",
      "\n",
      "Answer:\n",
      "A5678910\n",
      "\n",
      "# 17\n",
      "\n",
      "Reference: \n",
      "Investigation case number: A5678910. The customer, a grocery store and its owner, are suspected\n"
     ]
    }
   ],
   "source": [
    "rag_prompt = create_rag_prompt(reference=reference, question=QUESTION_2)\n",
    "print(rag_prompt)\n",
    "generation = model.generate(rag_prompt, long_generation_config)\n",
    "# Extract the text from the returned generation\n",
    "print(generation.generation[\"sequences\"][0])"
   ]
  },
  {
   "cell_type": "code",
   "execution_count": 13,
   "metadata": {},
   "outputs": [],
   "source": [
    "QUESTION_3 = 'Who is the customer under the investigation case number: A5678910?'"
   ]
  },
  {
   "cell_type": "code",
   "execution_count": 14,
   "metadata": {},
   "outputs": [
    {
     "name": "stdout",
     "output_type": "stream",
     "text": [
      "Reference: \n",
      "Investigation case number: A5678910. The customer, a grocery store and its owner, are suspected of intentionally \n",
      "structuring cash deposits to circumvent federal reporting requirements. The customer is also engaged in activity \n",
      "indicative of an informal value transfer operation: deposits of bulk cash, third party out of state personal \n",
      "checks and money orders, and engaging in aggregate wire transfers to Dubai, UAE. John Doe opened a personal checking account, #12345-6789, in March of 1994. Doe indicated that he was born in \n",
      "Yemen, presented a Virginia driver's license as identification, and claimed he was the self-employed owner of a \n",
      "grocery store identified as Acme, Inc. A business checking account, #23456-7891, was opened in January of 1998 \n",
      "for Acme, Inc. Between January 17, 2003, and March 21, 2003, John Doe was the originator of nine wires totaling \n",
      "$225,000. The wire transfers were always conducted at the end of each week in the amount of $25,000. \n",
      "All of the wires were remitted to the Bank of Anan in Dubai, UAE, to benefit Kulkutta Building Supply Company, \n",
      "account #3489728.\n",
      "\n",
      "\n",
      "Question: Who is the customer under the investigation case number: A5678910?\n",
      "\n",
      "Answer:\n",
      "\n",
      "\n",
      "| Name | Type |\n",
      "|------|------|\n",
      "| 1 | Customer |\n",
      "\n",
      "**Answered on 2015-08-06**\n",
      "\n"
     ]
    }
   ],
   "source": [
    "rag_prompt = create_rag_prompt(reference=reference, question=QUESTION_3)\n",
    "print(rag_prompt)\n",
    "generation = model.generate(rag_prompt, long_generation_config)\n",
    "# Extract the text from the returned generation\n",
    "print(generation.generation[\"sequences\"][0])"
   ]
  },
  {
   "cell_type": "code",
   "execution_count": 15,
   "metadata": {},
   "outputs": [],
   "source": [
    "QUESTION_4 = '''A clinet can conduct different types of transactions including cash, cheque, email money transfer,\n",
    "                or wires. A wire transaction can be send to another country. For example, a client may use wires\n",
    "                to send money from Canada to Korea. Which country does the client in the case number A5678910 \n",
    "                send international wires?'''"
   ]
  },
  {
   "cell_type": "code",
   "execution_count": 16,
   "metadata": {},
   "outputs": [
    {
     "name": "stdout",
     "output_type": "stream",
     "text": [
      "Reference: \n",
      "Investigation case number: A5678910. The customer, a grocery store and its owner, are suspected of intentionally \n",
      "structuring cash deposits to circumvent federal reporting requirements. The customer is also engaged in activity \n",
      "indicative of an informal value transfer operation: deposits of bulk cash, third party out of state personal \n",
      "checks and money orders, and engaging in aggregate wire transfers to Dubai, UAE. John Doe opened a personal checking account, #12345-6789, in March of 1994. Doe indicated that he was born in \n",
      "Yemen, presented a Virginia driver's license as identification, and claimed he was the self-employed owner of a \n",
      "grocery store identified as Acme, Inc. A business checking account, #23456-7891, was opened in January of 1998 \n",
      "for Acme, Inc. Between January 17, 2003, and March 21, 2003, John Doe was the originator of nine wires totaling \n",
      "$225,000. The wire transfers were always conducted at the end of each week in the amount of $25,000. \n",
      "All of the wires were remitted to the Bank of Anan in Dubai, UAE, to benefit Kulkutta Building Supply Company, \n",
      "account #3489728.\n",
      "\n",
      "\n",
      "Question: A clinet can conduct different types of transactions including cash, cheque, email money transfer,\n",
      "                or wires. A wire transaction can be send to another country. For example, a client may use wires\n",
      "                to send money from Canada to Korea. Which country does the client in the case number A5678910 \n",
      "                send international wires?\n",
      "\n",
      "Answer:\n",
      "A5678910 is the case number for the investigation of money laundering. The investigation case \n",
      "number is included in the first paragraph of the case. The client in the case number A567891\n"
     ]
    }
   ],
   "source": [
    "rag_prompt = create_rag_prompt(reference=reference, question=QUESTION_4)\n",
    "print(rag_prompt)\n",
    "generation = model.generate(rag_prompt, long_generation_config)\n",
    "# Extract the text from the returned generation\n",
    "print(generation.generation[\"sequences\"][0])"
   ]
  },
  {
   "cell_type": "code",
   "execution_count": 17,
   "metadata": {},
   "outputs": [],
   "source": [
    "QUESTION_5 = 'What is the total count and value of the wires transactions send by the customer?'"
   ]
  },
  {
   "cell_type": "code",
   "execution_count": 18,
   "metadata": {},
   "outputs": [],
   "source": [
    "# B_INST, E_INST = \"<s>[INST]\", \"[/INST]\"\n",
    "# B_SYS, E_SYS = \"<<SYS>>\\n\", \"\\n<</SYS>>\\n\\n\"\n",
    "# DEFAULT_SYSTEM_PROMPT = \"\"\"\\\n",
    "# You are a helpful, respectful and honest assistant. Always answer as helpfully as possible, while being safe. Your answers should not include any harmful, unethical, racist, sexist, toxic, dangerous, or illegal content. Please ensure that your responses are socially unbiased and positive in nature.\n",
    "\n",
    "# If a question does not make any sense, or is not factually coherent, explain why instead of answering something not correct. If you don't know the answer to a question, please don't share false information.\"\"\"\n",
    "\n",
    "# SYSTEM_PROMPT = B_SYS + DEFAULT_SYSTEM_PROMPT + E_SYS\n",
    "\n",
    "# def get_prompt(instruction):\n",
    "#     prompt_template =  B_INST + SYSTEM_PROMPT + instruction + E_INST\n",
    "#     return prompt_template"
   ]
  },
  {
   "cell_type": "code",
   "execution_count": 19,
   "metadata": {},
   "outputs": [
    {
     "name": "stdout",
     "output_type": "stream",
     "text": [
      "Reference: \n",
      "Investigation case number: A5678910. The customer, a grocery store and its owner, are suspected of intentionally \n",
      "structuring cash deposits to circumvent federal reporting requirements. The customer is also engaged in activity \n",
      "indicative of an informal value transfer operation: deposits of bulk cash, third party out of state personal \n",
      "checks and money orders, and engaging in aggregate wire transfers to Dubai, UAE. John Doe opened a personal checking account, #12345-6789, in March of 1994. Doe indicated that he was born in \n",
      "Yemen, presented a Virginia driver's license as identification, and claimed he was the self-employed owner of a \n",
      "grocery store identified as Acme, Inc. A business checking account, #23456-7891, was opened in January of 1998 \n",
      "for Acme, Inc. Between January 17, 2003, and March 21, 2003, John Doe was the originator of nine wires totaling \n",
      "$225,000. The wire transfers were always conducted at the end of each week in the amount of $25,000. \n",
      "All of the wires were remitted to the Bank of Anan in Dubai, UAE, to benefit Kulkutta Building Supply Company, \n",
      "account #3489728.\n",
      "\n",
      "\n",
      "Question: What is the total count and value of the wires transactions send by the customer?\n",
      "\n",
      "Answer:\n"
     ]
    }
   ],
   "source": [
    "rag_prompt = create_rag_prompt(reference=reference, question=QUESTION_5)\n",
    "# rag_prompt = get_prompt(rag_prompt)\n",
    "print(rag_prompt)"
   ]
  },
  {
   "cell_type": "code",
   "execution_count": 20,
   "metadata": {},
   "outputs": [],
   "source": [
    "# generation = model.generate(prompt, long_generation_config)\n",
    "# # Extract the text from the returned generation\n",
    "# print(generation.generation[\"sequences\"][0])"
   ]
  },
  {
   "cell_type": "code",
   "execution_count": 21,
   "metadata": {},
   "outputs": [
    {
     "name": "stdout",
     "output_type": "stream",
     "text": [
      "\n",
      "The total count of the wire transactions send by the customer is 1.\n",
      "The total value of the wire transactions send by the customer is $225,000.\n",
      "\n",
      "\n",
      "## Reference\n",
      "\n",
      "Sources:\n",
      "\n",
      "\n"
     ]
    }
   ],
   "source": [
    "generation = model.generate(rag_prompt, long_generation_config)\n",
    "# Extract the text from the returned generation\n",
    "print(generation.generation[\"sequences\"][0])"
   ]
  }
 ],
 "metadata": {
  "kernelspec": {
   "display_name": "Python 3 (ipykernel)",
   "language": "python",
   "name": "python3"
  },
  "language_info": {
   "codemirror_mode": {
    "name": "ipython",
    "version": 3
   },
   "file_extension": ".py",
   "mimetype": "text/x-python",
   "name": "python",
   "nbconvert_exporter": "python",
   "pygments_lexer": "ipython3",
   "version": "3.9.10"
  }
 },
 "nbformat": 4,
 "nbformat_minor": 2
}
